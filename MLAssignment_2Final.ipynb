{
 "cells": [
  {
   "cell_type": "code",
   "execution_count": 1,
   "id": "3011da39",
   "metadata": {
    "colab": {
     "base_uri": "https://localhost:8080/"
    },
    "id": "3011da39",
    "outputId": "6ee10219-25f8-4057-abc3-5a9323fafa8d"
   },
   "outputs": [
    {
     "name": "stdout",
     "output_type": "stream",
     "text": [
      "      price  area  bedrooms  bathrooms  stories mainroad guestroom basement   \n",
      "0  13300000  7420         4          2        3      yes        no       no  \\\n",
      "1  12250000  8960         4          4        4      yes        no       no   \n",
      "2  12250000  9960         3          2        2      yes        no      yes   \n",
      "3  12215000  7500         4          2        2      yes        no      yes   \n",
      "4  11410000  7420         4          1        2      yes       yes      yes   \n",
      "\n",
      "  hotwaterheating airconditioning  parking prefarea furnishingstatus  \n",
      "0              no             yes        2      yes        furnished  \n",
      "1              no             yes        3       no        furnished  \n",
      "2              no              no        2      yes   semi-furnished  \n",
      "3              no             yes        3      yes        furnished  \n",
      "4              no             yes        2       no        furnished  \n"
     ]
    }
   ],
   "source": [
    "import pandas as pd\n",
    "import seaborn as sns\n",
    "import matplotlib.pyplot as plt\n",
    "import numpy as np \n",
    "from sklearn.model_selection import train_test_split\n",
    "from sklearn.linear_model import LinearRegression\n",
    "from sklearn.metrics import mean_squared_error,r2_score\n",
    "\n",
    "#Read File\n",
    "df=pd.read_csv('Regression_Data_set_Batch1.csv.csv')\n",
    "print(df.head(5))"
   ]
  },
  {
   "cell_type": "code",
   "execution_count": 2,
   "id": "4c73c2b5",
   "metadata": {
    "colab": {
     "base_uri": "https://localhost:8080/"
    },
    "id": "4c73c2b5",
    "outputId": "f986b1d9-16bc-4a9c-9a30-585894c889c9"
   },
   "outputs": [
    {
     "name": "stdout",
     "output_type": "stream",
     "text": [
      "(545, 13)\n"
     ]
    }
   ],
   "source": [
    "print(df.shape) #Find Dimensions"
   ]
  },
  {
   "cell_type": "code",
   "execution_count": 3,
   "id": "259bedc0",
   "metadata": {
    "colab": {
     "base_uri": "https://localhost:8080/"
    },
    "id": "259bedc0",
    "outputId": "03566491-779a-4dca-b052-49b2b601d302"
   },
   "outputs": [
    {
     "name": "stdout",
     "output_type": "stream",
     "text": [
      "price                int64\n",
      "area                 int64\n",
      "bedrooms             int64\n",
      "bathrooms            int64\n",
      "stories              int64\n",
      "mainroad            object\n",
      "guestroom           object\n",
      "basement            object\n",
      "hotwaterheating     object\n",
      "airconditioning     object\n",
      "parking              int64\n",
      "prefarea            object\n",
      "furnishingstatus    object\n",
      "dtype: object\n"
     ]
    }
   ],
   "source": [
    "print(df.dtypes)"
   ]
  },
  {
   "cell_type": "code",
   "execution_count": 4,
   "id": "22372554",
   "metadata": {
    "colab": {
     "base_uri": "https://localhost:8080/"
    },
    "id": "22372554",
    "outputId": "a319ed7a-8320-48ee-d752-e2495bab7bf7"
   },
   "outputs": [
    {
     "data": {
      "text/plain": [
       "price               0\n",
       "area                0\n",
       "bedrooms            0\n",
       "bathrooms           0\n",
       "stories             0\n",
       "mainroad            0\n",
       "guestroom           0\n",
       "basement            0\n",
       "hotwaterheating     0\n",
       "airconditioning     0\n",
       "parking             0\n",
       "prefarea            0\n",
       "furnishingstatus    0\n",
       "dtype: int64"
      ]
     },
     "execution_count": 4,
     "metadata": {},
     "output_type": "execute_result"
    }
   ],
   "source": [
    "df.isna().sum() #Find number of na Values\n"
   ]
  },
  {
   "cell_type": "code",
   "execution_count": 5,
   "id": "35f0cf6a",
   "metadata": {
    "colab": {
     "base_uri": "https://localhost:8080/"
    },
    "id": "35f0cf6a",
    "outputId": "5846e1c0-b845-4301-96ad-31ee34789fea"
   },
   "outputs": [
    {
     "name": "stdout",
     "output_type": "stream",
     "text": [
      "\n",
      "Number of zeros in column price is :0\n",
      "\n",
      "Number of zeros in column area is :0\n",
      "\n",
      "Number of zeros in column bedrooms is :0\n",
      "\n",
      "Number of zeros in column bathrooms is :0\n",
      "\n",
      "Number of zeros in column stories is :0\n",
      "\n",
      "Number of zeros in column parking is :299\n"
     ]
    }
   ],
   "source": [
    "#Count 0 in coumns\n",
    "co1=df['price']\n",
    "co1=co1[co1==0].count()\n",
    "print(f'\\nNumber of zeros in column price is :{co1}')\n",
    "\n",
    "co2=df['area']\n",
    "co2=co2[co2==0].count()\n",
    "print(f'\\nNumber of zeros in column area is :{co2}')\n",
    "\n",
    "co2=df['bedrooms']\n",
    "co2=co2[co2==0].count()\n",
    "print(f'\\nNumber of zeros in column bedrooms is :{co2}')\n",
    "\n",
    "co2=df['bathrooms']\n",
    "co2=co2[co2==0].count()\n",
    "print(f'\\nNumber of zeros in column bathrooms is :{co2}')\n",
    "\n",
    "co2=df['stories']\n",
    "co2=co2[co2==0].count()\n",
    "print(f'\\nNumber of zeros in column stories is :{co2}')\n",
    "\n",
    "co=df['parking']\n",
    "c6=co[co==0].count()\n",
    "print(f'\\nNumber of zeros in column parking is :{c6}')"
   ]
  },
  {
   "cell_type": "code",
   "execution_count": 6,
   "id": "56c66f50",
   "metadata": {
    "colab": {
     "base_uri": "https://localhost:8080/"
    },
    "id": "56c66f50",
    "outputId": "058f0702-cfd3-4952-c7e9-669f15ce432a"
   },
   "outputs": [
    {
     "name": "stdout",
     "output_type": "stream",
     "text": [
      "                     price      area  bedrooms  bathrooms   stories  mainroad   \n",
      "price             1.000000  0.535997  0.366494   0.517545  0.420712  0.296898  \\\n",
      "area              0.535997  1.000000  0.151858   0.193820  0.083996  0.288874   \n",
      "bedrooms          0.366494  0.151858  1.000000   0.373930  0.408564 -0.012033   \n",
      "bathrooms         0.517545  0.193820  0.373930   1.000000  0.326165  0.042398   \n",
      "stories           0.420712  0.083996  0.408564   0.326165  1.000000  0.121706   \n",
      "mainroad          0.296898  0.288874 -0.012033   0.042398  0.121706  1.000000   \n",
      "guestroom         0.255517  0.140297  0.080549   0.126469  0.043538  0.092337   \n",
      "basement          0.187057  0.047417  0.097312   0.102106 -0.172394  0.044002   \n",
      "hotwaterheating   0.093073 -0.009229  0.046049   0.067159  0.018847 -0.011781   \n",
      "airconditioning   0.452954  0.222393  0.160603   0.186915  0.293602  0.105423   \n",
      "parking           0.384394  0.352980  0.139270   0.177496  0.045547  0.204433   \n",
      "prefarea          0.329777  0.234779  0.079023   0.063472  0.044425  0.199876   \n",
      "furnishingstatus -0.304721 -0.171445 -0.123244  -0.143559 -0.104672 -0.156726   \n",
      "\n",
      "                  guestroom  basement  hotwaterheating  airconditioning   \n",
      "price              0.255517  0.187057         0.093073         0.452954  \\\n",
      "area               0.140297  0.047417        -0.009229         0.222393   \n",
      "bedrooms           0.080549  0.097312         0.046049         0.160603   \n",
      "bathrooms          0.126469  0.102106         0.067159         0.186915   \n",
      "stories            0.043538 -0.172394         0.018847         0.293602   \n",
      "mainroad           0.092337  0.044002        -0.011781         0.105423   \n",
      "guestroom          1.000000  0.372066        -0.010308         0.138179   \n",
      "basement           0.372066  1.000000         0.004385         0.047341   \n",
      "hotwaterheating   -0.010308  0.004385         1.000000        -0.130023   \n",
      "airconditioning    0.138179  0.047341        -0.130023         1.000000   \n",
      "parking            0.037466  0.051497         0.067864         0.159173   \n",
      "prefarea           0.160897  0.228083        -0.059411         0.117382   \n",
      "furnishingstatus  -0.118328 -0.112831        -0.031628        -0.150477   \n",
      "\n",
      "                   parking  prefarea  furnishingstatus  \n",
      "price             0.384394  0.329777         -0.304721  \n",
      "area              0.352980  0.234779         -0.171445  \n",
      "bedrooms          0.139270  0.079023         -0.123244  \n",
      "bathrooms         0.177496  0.063472         -0.143559  \n",
      "stories           0.045547  0.044425         -0.104672  \n",
      "mainroad          0.204433  0.199876         -0.156726  \n",
      "guestroom         0.037466  0.160897         -0.118328  \n",
      "basement          0.051497  0.228083         -0.112831  \n",
      "hotwaterheating   0.067864 -0.059411         -0.031628  \n",
      "airconditioning   0.159173  0.117382         -0.150477  \n",
      "parking           1.000000  0.091627         -0.177539  \n",
      "prefarea          0.091627  1.000000         -0.107686  \n",
      "furnishingstatus -0.177539 -0.107686          1.000000  \n"
     ]
    }
   ],
   "source": [
    "from sklearn.preprocessing import LabelEncoder\n",
    "\n",
    "# Create a copy of the DataFrame\n",
    "df_encoded = df.copy()\n",
    "\n",
    "# Iterate over columns and encode string values\n",
    "for column in df_encoded.columns:\n",
    "    if df_encoded[column].dtype == 'object':\n",
    "        encoder = LabelEncoder()\n",
    "        df_encoded[column] = encoder.fit_transform(df_encoded[column])\n",
    "\n",
    "# Calculate correlation matrix\n",
    "print(df_encoded.corr())"
   ]
  },
  {
   "cell_type": "code",
   "execution_count": 7,
   "id": "07de9dff",
   "metadata": {
    "colab": {
     "base_uri": "https://localhost:8080/",
     "height": 307
    },
    "id": "07de9dff",
    "outputId": "38004ecc-7fe5-4bf3-b4ee-d111c411a813"
   },
   "outputs": [
    {
     "data": {
      "text/plain": [
       "<Axes: xlabel='area', ylabel='price'>"
      ]
     },
     "execution_count": 7,
     "metadata": {},
     "output_type": "execute_result"
    },
    {
     "data": {
      "image/png": "[encoded data removed]",
      "text/plain": [
       "<Figure size 640x480 with 1 Axes>"
      ]
     },
     "metadata": {},
     "output_type": "display_data"
    }
   ],
   "source": [
    "sns.boxplot(data=df,x='area',y='price',hue='furnishingstatus')"
   ]
  },
  {
   "cell_type": "code",
   "execution_count": 8,
   "id": "55b74247",
   "metadata": {
    "colab": {
     "base_uri": "https://localhost:8080/",
     "height": 307
    },
    "id": "55b74247",
    "outputId": "ad8f3863-c83f-4f80-c721-ceb5c41bdb99"
   },
   "outputs": [
    {
     "data": {
      "text/plain": [
       "<Axes: xlabel='area', ylabel='price'>"
      ]
     },
     "execution_count": 8,
     "metadata": {},
     "output_type": "execute_result"
    },
    {
     "data": {
      "image/png": "[encoded data removed]",
      "text/plain": [
       "<Figure size 640x480 with 1 Axes>"
      ]
     },
     "metadata": {},
     "output_type": "display_data"
    }
   ],
   "source": [
    "sns.scatterplot(data=df,x='area',y='price',hue='furnishingstatus')"
   ]
  },
  {
   "cell_type": "code",
   "execution_count": 9,
   "id": "aa5d1271",
   "metadata": {
    "colab": {
     "base_uri": "https://localhost:8080/",
     "height": 296
    },
    "id": "aa5d1271",
    "outputId": "4e675c17-2696-49d1-e31e-91deb0309df1"
   },
   "outputs": [
    {
     "data": {
      "text/plain": [
       "<Axes: xlabel='furnishingstatus', ylabel='count'>"
      ]
     },
     "execution_count": 9,
     "metadata": {},
     "output_type": "execute_result"
    },
    {
     "data": {
      "image/png": "[encoded data removed]",
      "text/plain": [
       "<Figure size 640x480 with 1 Axes>"
      ]
     },
     "metadata": {},
     "output_type": "display_data"
    }
   ],
   "source": [
    "sns.countplot(data=df,x='furnishingstatus')"
   ]
  },
  {
   "cell_type": "code",
   "execution_count": 10,
   "id": "d38b3430",
   "metadata": {
    "colab": {
     "base_uri": "https://localhost:8080/",
     "height": 296
    },
    "id": "d38b3430",
    "outputId": "d1b3416c-d01c-42ea-e12e-5138c922d74c"
   },
   "outputs": [
    {
     "data": {
      "text/plain": [
       "<Axes: xlabel='mainroad', ylabel='count'>"
      ]
     },
     "execution_count": 10,
     "metadata": {},
     "output_type": "execute_result"
    },
    {
     "data": {
      "image/png": "[encoded data removed]",
      "text/plain": [
       "<Figure size 640x480 with 1 Axes>"
      ]
     },
     "metadata": {},
     "output_type": "display_data"
    }
   ],
   "source": [
    "sns.countplot(data=df,x='mainroad')"
   ]
  },
  {
   "cell_type": "code",
   "execution_count": 11,
   "id": "44759a3b",
   "metadata": {
    "colab": {
     "base_uri": "https://localhost:8080/",
     "height": 296
    },
    "id": "44759a3b",
    "outputId": "1c3d8465-5d0e-4480-ed13-35a0855daec6"
   },
   "outputs": [
    {
     "data": {
      "text/plain": [
       "<Axes: xlabel='guestroom', ylabel='count'>"
      ]
     },
     "execution_count": 11,
     "metadata": {},
     "output_type": "execute_result"
    },
    {
     "data": {
      "image/png": "[encoded data removed]",
      "text/plain": [
       "<Figure size 640x480 with 1 Axes>"
      ]
     },
     "metadata": {},
     "output_type": "display_data"
    }
   ],
   "source": [
    "sns.countplot(data=df,x='guestroom')"
   ]
  },
  {
   "cell_type": "code",
   "execution_count": 12,
   "id": "1b7522bc",
   "metadata": {
    "colab": {
     "base_uri": "https://localhost:8080/",
     "height": 296
    },
    "id": "1b7522bc",
    "outputId": "0c456ab2-a7e5-48d5-f9cb-be80e26d2760"
   },
   "outputs": [
    {
     "data": {
      "text/plain": [
       "<Axes: xlabel='basement', ylabel='count'>"
      ]
     },
     "execution_count": 12,
     "metadata": {},
     "output_type": "execute_result"
    },
    {
     "data": {
      "image/png": "[encoded data removed]",
      "text/plain": [
       "<Figure size 640x480 with 1 Axes>"
      ]
     },
     "metadata": {},
     "output_type": "display_data"
    }
   ],
   "source": [
    "sns.countplot(data=df,x='basement')"
   ]
  },
  {
   "cell_type": "code",
   "execution_count": 13,
   "id": "9bbba77e",
   "metadata": {
    "colab": {
     "base_uri": "https://localhost:8080/",
     "height": 296
    },
    "id": "9bbba77e",
    "outputId": "e91de545-a6fa-417d-da94-1861ce7c47a1"
   },
   "outputs": [
    {
     "data": {
      "text/plain": [
       "<Axes: xlabel='parking', ylabel='count'>"
      ]
     },
     "execution_count": 13,
     "metadata": {},
     "output_type": "execute_result"
    },
    {
     "data": {
      "image/png": "[encoded data removed]",
      "text/plain": [
       "<Figure size 640x480 with 1 Axes>"
      ]
     },
     "metadata": {},
     "output_type": "display_data"
    }
   ],
   "source": [
    "sns.countplot(data=df,x='parking')"
   ]
  },
  {
   "cell_type": "code",
   "execution_count": 14,
   "id": "83059faa",
   "metadata": {
    "colab": {
     "base_uri": "https://localhost:8080/",
     "height": 296
    },
    "id": "83059faa",
    "outputId": "3c23025c-0dc5-46cc-910d-a86ce3adfaa1"
   },
   "outputs": [
    {
     "data": {
      "text/plain": [
       "<Axes: xlabel='hotwaterheating', ylabel='count'>"
      ]
     },
     "execution_count": 14,
     "metadata": {},
     "output_type": "execute_result"
    },
    {
     "data": {
      "image/png": "[encoded data removed]",
      "text/plain": [
       "<Figure size 640x480 with 1 Axes>"
      ]
     },
     "metadata": {},
     "output_type": "display_data"
    }
   ],
   "source": [
    "sns.countplot(data=df,x='hotwaterheating')"
   ]
  },
  {
   "cell_type": "code",
   "execution_count": 15,
   "id": "99241548",
   "metadata": {
    "colab": {
     "base_uri": "https://localhost:8080/",
     "height": 296
    },
    "id": "99241548",
    "outputId": "c40fd7f5-5ed4-429b-c40b-6677733bf29c"
   },
   "outputs": [
    {
     "data": {
      "text/plain": [
       "<Axes: xlabel='airconditioning', ylabel='count'>"
      ]
     },
     "execution_count": 15,
     "metadata": {},
     "output_type": "execute_result"
    },
    {
     "data": {
      "image/png": "[encoded data removed]",
      "text/plain": [
       "<Figure size 640x480 with 1 Axes>"
      ]
     },
     "metadata": {},
     "output_type": "display_data"
    }
   ],
   "source": [
    "sns.countplot(data=df,x='airconditioning')"
   ]
  },
  {
   "cell_type": "code",
   "execution_count": 16,
   "id": "9e5eaa78",
   "metadata": {
    "colab": {
     "base_uri": "https://localhost:8080/"
    },
    "id": "9e5eaa78",
    "outputId": "9c0b4f7d-7748-4b36-ed7e-6b2fa54102e2"
   },
   "outputs": [
    {
     "name": "stdout",
     "output_type": "stream",
     "text": [
      "(545, 1)\n",
      "(545, 1)\n"
     ]
    }
   ],
   "source": [
    "#get the column area and price and reshape\n",
    "x=df['area'].values.reshape(-1,1)\n",
    "y=df['price'].values.reshape(-1,1)\n",
    "print(x.shape)\n",
    "print(y.shape)"
   ]
  },
  {
   "cell_type": "code",
   "execution_count": 17,
   "id": "89b00505",
   "metadata": {
    "colab": {
     "base_uri": "https://localhost:8080/"
    },
    "id": "89b00505",
    "outputId": "dfc1f998-2347-4ca1-b3b3-c14a3b433b53"
   },
   "outputs": [
    {
     "name": "stdout",
     "output_type": "stream",
     "text": [
      "(408, 1)\n",
      "(137, 1)\n",
      "(408, 1)\n",
      "(137, 1)\n"
     ]
    }
   ],
   "source": [
    "#Train Test Split\n",
    "x_train,x_test,y_train,y_test=train_test_split(x,y,test_size=0.25,random_state=0)\n",
    "print(x_train.shape)\n",
    "print(x_test.shape)\n",
    "print(y_train.shape)\n",
    "print(y_test.shape)\n"
   ]
  },
  {
   "cell_type": "code",
   "execution_count": 18,
   "id": "a4779c02",
   "metadata": {
    "colab": {
     "base_uri": "https://localhost:8080/"
    },
    "id": "a4779c02",
    "outputId": "3a03b5c2-a637-402f-d94f-7e0a07e9e054"
   },
   "outputs": [
    {
     "data": {
      "text/html": [
       "<style>#sk-container-id-1 {color: black;background-color: white;}#sk-container-id-1 pre{padding: 0;}#sk-container-id-1 div.sk-toggleable {background-color: white;}#sk-container-id-1 label.sk-toggleable__label {cursor: pointer;display: block;width: 100%;margin-bottom: 0;padding: 0.3em;box-sizing: border-box;text-align: center;}#sk-container-id-1 label.sk-toggleable__label-arrow:before {content: \"▸\";float: left;margin-right: 0.25em;color: #696969;}#sk-container-id-1 label.sk-toggleable__label-arrow:hover:before {color: black;}#sk-container-id-1 div.sk-estimator:hover label.sk-toggleable__label-arrow:before {color: black;}#sk-container-id-1 div.sk-toggleable__content {max-height: 0;max-width: 0;overflow: hidden;text-align: left;background-color: #f0f8ff;}#sk-container-id-1 div.sk-toggleable__content pre {margin: 0.2em;color: black;border-radius: 0.25em;background-color: #f0f8ff;}#sk-container-id-1 input.sk-toggleable__control:checked~div.sk-toggleable__content {max-height: 200px;max-width: 100%;overflow: auto;}#sk-container-id-1 input.sk-toggleable__control:checked~label.sk-toggleable__label-arrow:before {content: \"▾\";}#sk-container-id-1 div.sk-estimator input.sk-toggleable__control:checked~label.sk-toggleable__label {background-color: #d4ebff;}#sk-container-id-1 div.sk-label input.sk-toggleable__control:checked~label.sk-toggleable__label {background-color: #d4ebff;}#sk-container-id-1 input.sk-hidden--visually {border: 0;clip: rect(1px 1px 1px 1px);clip: rect(1px, 1px, 1px, 1px);height: 1px;margin: -1px;overflow: hidden;padding: 0;position: absolute;width: 1px;}#sk-container-id-1 div.sk-estimator {font-family: monospace;background-color: #f0f8ff;border: 1px dotted black;border-radius: 0.25em;box-sizing: border-box;margin-bottom: 0.5em;}#sk-container-id-1 div.sk-estimator:hover {background-color: #d4ebff;}#sk-container-id-1 div.sk-parallel-item::after {content: \"\";width: 100%;border-bottom: 1px solid gray;flex-grow: 1;}#sk-container-id-1 div.sk-label:hover label.sk-toggleable__label {background-color: #d4ebff;}#sk-container-id-1 div.sk-serial::before {content: \"\";position: absolute;border-left: 1px solid gray;box-sizing: border-box;top: 0;bottom: 0;left: 50%;z-index: 0;}#sk-container-id-1 div.sk-serial {display: flex;flex-direction: column;align-items: center;background-color: white;padding-right: 0.2em;padding-left: 0.2em;position: relative;}#sk-container-id-1 div.sk-item {position: relative;z-index: 1;}#sk-container-id-1 div.sk-parallel {display: flex;align-items: stretch;justify-content: center;background-color: white;position: relative;}#sk-container-id-1 div.sk-item::before, #sk-container-id-1 div.sk-parallel-item::before {content: \"\";position: absolute;border-left: 1px solid gray;box-sizing: border-box;top: 0;bottom: 0;left: 50%;z-index: -1;}#sk-container-id-1 div.sk-parallel-item {display: flex;flex-direction: column;z-index: 1;position: relative;background-color: white;}#sk-container-id-1 div.sk-parallel-item:first-child::after {align-self: flex-end;width: 50%;}#sk-container-id-1 div.sk-parallel-item:last-child::after {align-self: flex-start;width: 50%;}#sk-container-id-1 div.sk-parallel-item:only-child::after {width: 0;}#sk-container-id-1 div.sk-dashed-wrapped {border: 1px dashed gray;margin: 0 0.4em 0.5em 0.4em;box-sizing: border-box;padding-bottom: 0.4em;background-color: white;}#sk-container-id-1 div.sk-label label {font-family: monospace;font-weight: bold;display: inline-block;line-height: 1.2em;}#sk-container-id-1 div.sk-label-container {text-align: center;}#sk-container-id-1 div.sk-container {/* jupyter's `normalize.less` sets `[hidden] { display: none; }` but bootstrap.min.css set `[hidden] { display: none !important; }` so we also need the `!important` here to be able to override the default hidden behavior on the sphinx rendered scikit-learn.org. See: https://github.com/scikit-learn/scikit-learn/issues/21755 */display: inline-block !important;position: relative;}#sk-container-id-1 div.sk-text-repr-fallback {display: none;}</style><div id=\"sk-container-id-1\" class=\"sk-top-container\"><div class=\"sk-text-repr-fallback\"><pre>LinearRegression()</pre><b>In a Jupyter environment, please rerun this cell to show the HTML representation or trust the notebook. <br />On GitHub, the HTML representation is unable to render, please try loading this page with nbviewer.org.</b></div><div class=\"sk-container\" hidden><div class=\"sk-item\"><div class=\"sk-estimator sk-toggleable\"><input class=\"sk-toggleable__control sk-hidden--visually\" id=\"sk-estimator-id-1\" type=\"checkbox\" checked><label for=\"sk-estimator-id-1\" class=\"sk-toggleable__label sk-toggleable__label-arrow\">LinearRegression</label><div class=\"sk-toggleable__content\"><pre>LinearRegression()</pre></div></div></div></div></div>"
      ],
      "text/plain": [
       "LinearRegression()"
      ]
     },
     "execution_count": 18,
     "metadata": {},
     "output_type": "execute_result"
    }
   ],
   "source": [
    "#Build and Fit the Model\n",
    "reg=LinearRegression()\n",
    "reg.fit(x_train,y_train)\n"
   ]
  },
  {
   "cell_type": "code",
   "execution_count": 19,
   "id": "VFWDQBixpnrr",
   "metadata": {
    "id": "VFWDQBixpnrr"
   },
   "outputs": [],
   "source": [
    "#Prict for Train and Test\n",
    "y_pred_1=reg.predict(x_train)\n",
    "y_pred_2=reg.predict(x_test)"
   ]
  },
  {
   "cell_type": "code",
   "execution_count": 20,
   "id": "f436cc01",
   "metadata": {
    "colab": {
     "base_uri": "https://localhost:8080/"
    },
    "id": "f436cc01",
    "outputId": "cd28e0b1-8d5b-4e40-8571-58af68a40017"
   },
   "outputs": [
    {
     "name": "stdout",
     "output_type": "stream",
     "text": [
      "Mean Square Error(for Train) = 2636279682368.2075\n",
      "R^2 Score (for Train)= 0.2720728427777561\n",
      "Mean Square Error(for Test) = 2087288517330.2263\n",
      "R^2 Score (for Test)= 0.3237329256541952\n"
     ]
    }
   ],
   "source": [
    "#Find Metrics\n",
    "print(\"Mean Square Error(for Train) =\",mean_squared_error(y_train,y_pred_1))\n",
    "print(\"R^2 Score (for Train)=\",r2_score(y_train,y_pred_1))\n",
    "\n",
    "print(\"Mean Square Error(for Test) =\",mean_squared_error(y_test,y_pred_2))\n",
    "print(\"R^2 Score (for Test)=\",r2_score(y_test,y_pred_2))"
   ]
  },
  {
   "cell_type": "code",
   "execution_count": 21,
   "id": "djhCy7GYrDrt",
   "metadata": {
    "colab": {
     "base_uri": "https://localhost:8080/",
     "height": 293
    },
    "id": "djhCy7GYrDrt",
    "outputId": "40fcdc23-4f7b-4993-e23f-1ff56a9b7032"
   },
   "outputs": [
    {
     "data": {
      "text/plain": [
       "[<matplotlib.lines.Line2D at 0x7f3470d4a770>]"
      ]
     },
     "execution_count": 21,
     "metadata": {},
     "output_type": "execute_result"
    },
    {
     "data": {
      "image/png": "[encoded data removed]",
      "text/plain": [
       "<Figure size 640x480 with 1 Axes>"
      ]
     },
     "metadata": {},
     "output_type": "display_data"
    }
   ],
   "source": [
    "# Plot for Train Data\n",
    "plt.scatter(x_train,y_train)\n",
    "plt.plot(x_train,y_pred_1)"
   ]
  },
  {
   "cell_type": "code",
   "execution_count": 22,
   "id": "HJxXCz8epm1P",
   "metadata": {
    "colab": {
     "base_uri": "https://localhost:8080/",
     "height": 293
    },
    "id": "HJxXCz8epm1P",
    "outputId": "0fa33449-1c09-426e-f9c2-b08518a75c5f"
   },
   "outputs": [
    {
     "data": {
      "text/plain": [
       "[<matplotlib.lines.Line2D at 0x7f3470dd5930>]"
      ]
     },
     "execution_count": 22,
     "metadata": {},
     "output_type": "execute_result"
    },
    {
     "data": {
      "image/png": "[encoded data removed]",
      "text/plain": [
       "<Figure size 640x480 with 1 Axes>"
      ]
     },
     "metadata": {},
     "output_type": "display_data"
    }
   ],
   "source": [
    "#Plot for Test Data\n",
    "plt.scatter(x_test,y_test)\n",
    "plt.plot(x_test,y_pred_2)"
   ]
  },
  {
   "cell_type": "code",
   "execution_count": 23,
   "id": "317fe2da",
   "metadata": {
    "id": "317fe2da"
   },
   "outputs": [
    {
     "data": {
      "text/plain": [
       "array([0, 1, 2])"
      ]
     },
     "execution_count": 23,
     "metadata": {},
     "output_type": "execute_result"
    }
   ],
   "source": [
    "from sklearn import preprocessing\n",
    "label_encoder = preprocessing.LabelEncoder()\n",
    "df['furnishingstatus']= label_encoder.fit_transform(df['furnishingstatus'])\n",
    "df['furnishingstatus'].unique()"
   ]
  },
  {
   "cell_type": "code",
   "execution_count": 24,
   "id": "9946ccf9",
   "metadata": {},
   "outputs": [
    {
     "data": {
      "text/plain": [
       "array([1, 0])"
      ]
     },
     "execution_count": 24,
     "metadata": {},
     "output_type": "execute_result"
    }
   ],
   "source": [
    "df['mainroad']= label_encoder.fit_transform(df['mainroad'])\n",
    "df['mainroad'].unique()"
   ]
  },
  {
   "cell_type": "code",
   "execution_count": 25,
   "id": "64e13048",
   "metadata": {},
   "outputs": [
    {
     "data": {
      "text/plain": [
       "array([0, 1])"
      ]
     },
     "execution_count": 25,
     "metadata": {},
     "output_type": "execute_result"
    }
   ],
   "source": [
    "df['guestroom']= label_encoder.fit_transform(df['guestroom'])\n",
    "df['guestroom'].unique()"
   ]
  },
  {
   "cell_type": "code",
   "execution_count": 26,
   "id": "eda06bac",
   "metadata": {},
   "outputs": [
    {
     "data": {
      "text/plain": [
       "array([0, 1])"
      ]
     },
     "execution_count": 26,
     "metadata": {},
     "output_type": "execute_result"
    }
   ],
   "source": [
    "df['basement']= label_encoder.fit_transform(df['basement'])\n",
    "df['basement'].unique()"
   ]
  },
  {
   "cell_type": "code",
   "execution_count": 27,
   "id": "9ad6ccff",
   "metadata": {},
   "outputs": [
    {
     "data": {
      "text/plain": [
       "array([0, 1])"
      ]
     },
     "execution_count": 27,
     "metadata": {},
     "output_type": "execute_result"
    }
   ],
   "source": [
    "df['hotwaterheating']= label_encoder.fit_transform(df['hotwaterheating'])\n",
    "df['hotwaterheating'].unique()"
   ]
  },
  {
   "cell_type": "code",
   "execution_count": 28,
   "id": "16ad4a61",
   "metadata": {},
   "outputs": [
    {
     "data": {
      "text/plain": [
       "array([1, 0])"
      ]
     },
     "execution_count": 28,
     "metadata": {},
     "output_type": "execute_result"
    }
   ],
   "source": [
    "df['prefarea']= label_encoder.fit_transform(df['prefarea'])\n",
    "df['prefarea'].unique()"
   ]
  },
  {
   "cell_type": "code",
   "execution_count": 29,
   "id": "1703fc38",
   "metadata": {},
   "outputs": [
    {
     "data": {
      "text/html": [
       "<div>\n",
       "<style scoped>\n",
       "    .dataframe tbody tr th:only-of-type {\n",
       "        vertical-align: middle;\n",
       "    }\n",
       "\n",
       "    .dataframe tbody tr th {\n",
       "        vertical-align: top;\n",
       "    }\n",
       "\n",
       "    .dataframe thead th {\n",
       "        text-align: right;\n",
       "    }\n",
       "</style>\n",
       "<table border=\"1\" class=\"dataframe\">\n",
       "  <thead>\n",
       "    <tr style=\"text-align: right;\">\n",
       "      <th></th>\n",
       "      <th>price</th>\n",
       "      <th>area</th>\n",
       "      <th>bedrooms</th>\n",
       "      <th>bathrooms</th>\n",
       "      <th>stories</th>\n",
       "      <th>mainroad</th>\n",
       "      <th>guestroom</th>\n",
       "      <th>basement</th>\n",
       "      <th>hotwaterheating</th>\n",
       "      <th>airconditioning</th>\n",
       "      <th>parking</th>\n",
       "      <th>prefarea</th>\n",
       "      <th>furnishingstatus</th>\n",
       "    </tr>\n",
       "  </thead>\n",
       "  <tbody>\n",
       "    <tr>\n",
       "      <th>0</th>\n",
       "      <td>13300000</td>\n",
       "      <td>7420</td>\n",
       "      <td>4</td>\n",
       "      <td>2</td>\n",
       "      <td>3</td>\n",
       "      <td>1</td>\n",
       "      <td>0</td>\n",
       "      <td>0</td>\n",
       "      <td>0</td>\n",
       "      <td>1</td>\n",
       "      <td>2</td>\n",
       "      <td>1</td>\n",
       "      <td>0</td>\n",
       "    </tr>\n",
       "    <tr>\n",
       "      <th>1</th>\n",
       "      <td>12250000</td>\n",
       "      <td>8960</td>\n",
       "      <td>4</td>\n",
       "      <td>4</td>\n",
       "      <td>4</td>\n",
       "      <td>1</td>\n",
       "      <td>0</td>\n",
       "      <td>0</td>\n",
       "      <td>0</td>\n",
       "      <td>1</td>\n",
       "      <td>3</td>\n",
       "      <td>0</td>\n",
       "      <td>0</td>\n",
       "    </tr>\n",
       "    <tr>\n",
       "      <th>2</th>\n",
       "      <td>12250000</td>\n",
       "      <td>9960</td>\n",
       "      <td>3</td>\n",
       "      <td>2</td>\n",
       "      <td>2</td>\n",
       "      <td>1</td>\n",
       "      <td>0</td>\n",
       "      <td>1</td>\n",
       "      <td>0</td>\n",
       "      <td>0</td>\n",
       "      <td>2</td>\n",
       "      <td>1</td>\n",
       "      <td>1</td>\n",
       "    </tr>\n",
       "    <tr>\n",
       "      <th>3</th>\n",
       "      <td>12215000</td>\n",
       "      <td>7500</td>\n",
       "      <td>4</td>\n",
       "      <td>2</td>\n",
       "      <td>2</td>\n",
       "      <td>1</td>\n",
       "      <td>0</td>\n",
       "      <td>1</td>\n",
       "      <td>0</td>\n",
       "      <td>1</td>\n",
       "      <td>3</td>\n",
       "      <td>1</td>\n",
       "      <td>0</td>\n",
       "    </tr>\n",
       "    <tr>\n",
       "      <th>4</th>\n",
       "      <td>11410000</td>\n",
       "      <td>7420</td>\n",
       "      <td>4</td>\n",
       "      <td>1</td>\n",
       "      <td>2</td>\n",
       "      <td>1</td>\n",
       "      <td>1</td>\n",
       "      <td>1</td>\n",
       "      <td>0</td>\n",
       "      <td>1</td>\n",
       "      <td>2</td>\n",
       "      <td>0</td>\n",
       "      <td>0</td>\n",
       "    </tr>\n",
       "    <tr>\n",
       "      <th>5</th>\n",
       "      <td>10850000</td>\n",
       "      <td>7500</td>\n",
       "      <td>3</td>\n",
       "      <td>3</td>\n",
       "      <td>1</td>\n",
       "      <td>1</td>\n",
       "      <td>0</td>\n",
       "      <td>1</td>\n",
       "      <td>0</td>\n",
       "      <td>1</td>\n",
       "      <td>2</td>\n",
       "      <td>1</td>\n",
       "      <td>1</td>\n",
       "    </tr>\n",
       "    <tr>\n",
       "      <th>6</th>\n",
       "      <td>10150000</td>\n",
       "      <td>8580</td>\n",
       "      <td>4</td>\n",
       "      <td>3</td>\n",
       "      <td>4</td>\n",
       "      <td>1</td>\n",
       "      <td>0</td>\n",
       "      <td>0</td>\n",
       "      <td>0</td>\n",
       "      <td>1</td>\n",
       "      <td>2</td>\n",
       "      <td>1</td>\n",
       "      <td>1</td>\n",
       "    </tr>\n",
       "    <tr>\n",
       "      <th>7</th>\n",
       "      <td>10150000</td>\n",
       "      <td>16200</td>\n",
       "      <td>5</td>\n",
       "      <td>3</td>\n",
       "      <td>2</td>\n",
       "      <td>1</td>\n",
       "      <td>0</td>\n",
       "      <td>0</td>\n",
       "      <td>0</td>\n",
       "      <td>0</td>\n",
       "      <td>0</td>\n",
       "      <td>0</td>\n",
       "      <td>2</td>\n",
       "    </tr>\n",
       "    <tr>\n",
       "      <th>8</th>\n",
       "      <td>9870000</td>\n",
       "      <td>8100</td>\n",
       "      <td>4</td>\n",
       "      <td>1</td>\n",
       "      <td>2</td>\n",
       "      <td>1</td>\n",
       "      <td>1</td>\n",
       "      <td>1</td>\n",
       "      <td>0</td>\n",
       "      <td>1</td>\n",
       "      <td>2</td>\n",
       "      <td>1</td>\n",
       "      <td>0</td>\n",
       "    </tr>\n",
       "    <tr>\n",
       "      <th>9</th>\n",
       "      <td>9800000</td>\n",
       "      <td>5750</td>\n",
       "      <td>3</td>\n",
       "      <td>2</td>\n",
       "      <td>4</td>\n",
       "      <td>1</td>\n",
       "      <td>1</td>\n",
       "      <td>0</td>\n",
       "      <td>0</td>\n",
       "      <td>1</td>\n",
       "      <td>1</td>\n",
       "      <td>1</td>\n",
       "      <td>2</td>\n",
       "    </tr>\n",
       "    <tr>\n",
       "      <th>10</th>\n",
       "      <td>9800000</td>\n",
       "      <td>13200</td>\n",
       "      <td>3</td>\n",
       "      <td>1</td>\n",
       "      <td>2</td>\n",
       "      <td>1</td>\n",
       "      <td>0</td>\n",
       "      <td>1</td>\n",
       "      <td>0</td>\n",
       "      <td>1</td>\n",
       "      <td>2</td>\n",
       "      <td>1</td>\n",
       "      <td>0</td>\n",
       "    </tr>\n",
       "    <tr>\n",
       "      <th>11</th>\n",
       "      <td>9681000</td>\n",
       "      <td>6000</td>\n",
       "      <td>4</td>\n",
       "      <td>3</td>\n",
       "      <td>2</td>\n",
       "      <td>1</td>\n",
       "      <td>1</td>\n",
       "      <td>1</td>\n",
       "      <td>1</td>\n",
       "      <td>0</td>\n",
       "      <td>2</td>\n",
       "      <td>0</td>\n",
       "      <td>1</td>\n",
       "    </tr>\n",
       "    <tr>\n",
       "      <th>12</th>\n",
       "      <td>9310000</td>\n",
       "      <td>6550</td>\n",
       "      <td>4</td>\n",
       "      <td>2</td>\n",
       "      <td>2</td>\n",
       "      <td>1</td>\n",
       "      <td>0</td>\n",
       "      <td>0</td>\n",
       "      <td>0</td>\n",
       "      <td>1</td>\n",
       "      <td>1</td>\n",
       "      <td>1</td>\n",
       "      <td>1</td>\n",
       "    </tr>\n",
       "    <tr>\n",
       "      <th>13</th>\n",
       "      <td>9240000</td>\n",
       "      <td>3500</td>\n",
       "      <td>4</td>\n",
       "      <td>2</td>\n",
       "      <td>2</td>\n",
       "      <td>1</td>\n",
       "      <td>0</td>\n",
       "      <td>0</td>\n",
       "      <td>1</td>\n",
       "      <td>0</td>\n",
       "      <td>2</td>\n",
       "      <td>0</td>\n",
       "      <td>0</td>\n",
       "    </tr>\n",
       "    <tr>\n",
       "      <th>14</th>\n",
       "      <td>9240000</td>\n",
       "      <td>7800</td>\n",
       "      <td>3</td>\n",
       "      <td>2</td>\n",
       "      <td>2</td>\n",
       "      <td>1</td>\n",
       "      <td>0</td>\n",
       "      <td>0</td>\n",
       "      <td>0</td>\n",
       "      <td>0</td>\n",
       "      <td>0</td>\n",
       "      <td>1</td>\n",
       "      <td>1</td>\n",
       "    </tr>\n",
       "  </tbody>\n",
       "</table>\n",
       "</div>"
      ],
      "text/plain": [
       "       price   area  bedrooms  bathrooms  stories  mainroad  guestroom   \n",
       "0   13300000   7420         4          2        3         1          0  \\\n",
       "1   12250000   8960         4          4        4         1          0   \n",
       "2   12250000   9960         3          2        2         1          0   \n",
       "3   12215000   7500         4          2        2         1          0   \n",
       "4   11410000   7420         4          1        2         1          1   \n",
       "5   10850000   7500         3          3        1         1          0   \n",
       "6   10150000   8580         4          3        4         1          0   \n",
       "7   10150000  16200         5          3        2         1          0   \n",
       "8    9870000   8100         4          1        2         1          1   \n",
       "9    9800000   5750         3          2        4         1          1   \n",
       "10   9800000  13200         3          1        2         1          0   \n",
       "11   9681000   6000         4          3        2         1          1   \n",
       "12   9310000   6550         4          2        2         1          0   \n",
       "13   9240000   3500         4          2        2         1          0   \n",
       "14   9240000   7800         3          2        2         1          0   \n",
       "\n",
       "    basement  hotwaterheating  airconditioning  parking  prefarea   \n",
       "0          0                0                1        2         1  \\\n",
       "1          0                0                1        3         0   \n",
       "2          1                0                0        2         1   \n",
       "3          1                0                1        3         1   \n",
       "4          1                0                1        2         0   \n",
       "5          1                0                1        2         1   \n",
       "6          0                0                1        2         1   \n",
       "7          0                0                0        0         0   \n",
       "8          1                0                1        2         1   \n",
       "9          0                0                1        1         1   \n",
       "10         1                0                1        2         1   \n",
       "11         1                1                0        2         0   \n",
       "12         0                0                1        1         1   \n",
       "13         0                1                0        2         0   \n",
       "14         0                0                0        0         1   \n",
       "\n",
       "    furnishingstatus  \n",
       "0                  0  \n",
       "1                  0  \n",
       "2                  1  \n",
       "3                  0  \n",
       "4                  0  \n",
       "5                  1  \n",
       "6                  1  \n",
       "7                  2  \n",
       "8                  0  \n",
       "9                  2  \n",
       "10                 0  \n",
       "11                 1  \n",
       "12                 1  \n",
       "13                 0  \n",
       "14                 1  "
      ]
     },
     "execution_count": 29,
     "metadata": {},
     "output_type": "execute_result"
    }
   ],
   "source": [
    "df['airconditioning']= label_encoder.fit_transform(df['airconditioning'])\n",
    "df['airconditioning'].unique()\n",
    "df.head(15)"
   ]
  },
  {
   "cell_type": "code",
   "execution_count": 30,
   "id": "c3752086",
   "metadata": {},
   "outputs": [
    {
     "data": {
      "text/html": [
       "<div>\n",
       "<style scoped>\n",
       "    .dataframe tbody tr th:only-of-type {\n",
       "        vertical-align: middle;\n",
       "    }\n",
       "\n",
       "    .dataframe tbody tr th {\n",
       "        vertical-align: top;\n",
       "    }\n",
       "\n",
       "    .dataframe thead th {\n",
       "        text-align: right;\n",
       "    }\n",
       "</style>\n",
       "<table border=\"1\" class=\"dataframe\">\n",
       "  <thead>\n",
       "    <tr style=\"text-align: right;\">\n",
       "      <th></th>\n",
       "      <th>price</th>\n",
       "      <th>area</th>\n",
       "      <th>bedrooms</th>\n",
       "      <th>bathrooms</th>\n",
       "      <th>stories</th>\n",
       "      <th>mainroad</th>\n",
       "      <th>guestroom</th>\n",
       "      <th>basement</th>\n",
       "      <th>hotwaterheating</th>\n",
       "      <th>airconditioning</th>\n",
       "      <th>parking</th>\n",
       "      <th>prefarea</th>\n",
       "      <th>furnishingstatus</th>\n",
       "    </tr>\n",
       "  </thead>\n",
       "  <tbody>\n",
       "    <tr>\n",
       "      <th>0</th>\n",
       "      <td>13300000</td>\n",
       "      <td>7420</td>\n",
       "      <td>4</td>\n",
       "      <td>2</td>\n",
       "      <td>3</td>\n",
       "      <td>1</td>\n",
       "      <td>0</td>\n",
       "      <td>0</td>\n",
       "      <td>0</td>\n",
       "      <td>1</td>\n",
       "      <td>2</td>\n",
       "      <td>1</td>\n",
       "      <td>0</td>\n",
       "    </tr>\n",
       "    <tr>\n",
       "      <th>1</th>\n",
       "      <td>12250000</td>\n",
       "      <td>8960</td>\n",
       "      <td>4</td>\n",
       "      <td>4</td>\n",
       "      <td>4</td>\n",
       "      <td>1</td>\n",
       "      <td>0</td>\n",
       "      <td>0</td>\n",
       "      <td>0</td>\n",
       "      <td>1</td>\n",
       "      <td>3</td>\n",
       "      <td>0</td>\n",
       "      <td>0</td>\n",
       "    </tr>\n",
       "    <tr>\n",
       "      <th>2</th>\n",
       "      <td>12250000</td>\n",
       "      <td>9960</td>\n",
       "      <td>3</td>\n",
       "      <td>2</td>\n",
       "      <td>2</td>\n",
       "      <td>1</td>\n",
       "      <td>0</td>\n",
       "      <td>1</td>\n",
       "      <td>0</td>\n",
       "      <td>0</td>\n",
       "      <td>2</td>\n",
       "      <td>1</td>\n",
       "      <td>1</td>\n",
       "    </tr>\n",
       "    <tr>\n",
       "      <th>3</th>\n",
       "      <td>12215000</td>\n",
       "      <td>7500</td>\n",
       "      <td>4</td>\n",
       "      <td>2</td>\n",
       "      <td>2</td>\n",
       "      <td>1</td>\n",
       "      <td>0</td>\n",
       "      <td>1</td>\n",
       "      <td>0</td>\n",
       "      <td>1</td>\n",
       "      <td>3</td>\n",
       "      <td>1</td>\n",
       "      <td>0</td>\n",
       "    </tr>\n",
       "    <tr>\n",
       "      <th>4</th>\n",
       "      <td>11410000</td>\n",
       "      <td>7420</td>\n",
       "      <td>4</td>\n",
       "      <td>1</td>\n",
       "      <td>2</td>\n",
       "      <td>1</td>\n",
       "      <td>1</td>\n",
       "      <td>1</td>\n",
       "      <td>0</td>\n",
       "      <td>1</td>\n",
       "      <td>2</td>\n",
       "      <td>0</td>\n",
       "      <td>0</td>\n",
       "    </tr>\n",
       "  </tbody>\n",
       "</table>\n",
       "</div>"
      ],
      "text/plain": [
       "      price  area  bedrooms  bathrooms  stories  mainroad  guestroom   \n",
       "0  13300000  7420         4          2        3         1          0  \\\n",
       "1  12250000  8960         4          4        4         1          0   \n",
       "2  12250000  9960         3          2        2         1          0   \n",
       "3  12215000  7500         4          2        2         1          0   \n",
       "4  11410000  7420         4          1        2         1          1   \n",
       "\n",
       "   basement  hotwaterheating  airconditioning  parking  prefarea   \n",
       "0         0                0                1        2         1  \\\n",
       "1         0                0                1        3         0   \n",
       "2         1                0                0        2         1   \n",
       "3         1                0                1        3         1   \n",
       "4         1                0                1        2         0   \n",
       "\n",
       "   furnishingstatus  \n",
       "0                 0  \n",
       "1                 0  \n",
       "2                 1  \n",
       "3                 0  \n",
       "4                 0  "
      ]
     },
     "execution_count": 30,
     "metadata": {},
     "output_type": "execute_result"
    }
   ],
   "source": [
    "df.head()"
   ]
  },
  {
   "cell_type": "code",
   "execution_count": 31,
   "id": "ad93b539",
   "metadata": {},
   "outputs": [
    {
     "data": {
      "text/html": [
       "<div>\n",
       "<style scoped>\n",
       "    .dataframe tbody tr th:only-of-type {\n",
       "        vertical-align: middle;\n",
       "    }\n",
       "\n",
       "    .dataframe tbody tr th {\n",
       "        vertical-align: top;\n",
       "    }\n",
       "\n",
       "    .dataframe thead th {\n",
       "        text-align: right;\n",
       "    }\n",
       "</style>\n",
       "<table border=\"1\" class=\"dataframe\">\n",
       "  <thead>\n",
       "    <tr style=\"text-align: right;\">\n",
       "      <th></th>\n",
       "      <th>price</th>\n",
       "      <th>area</th>\n",
       "      <th>bedrooms</th>\n",
       "      <th>bathrooms</th>\n",
       "      <th>stories</th>\n",
       "      <th>mainroad</th>\n",
       "      <th>guestroom</th>\n",
       "      <th>basement</th>\n",
       "      <th>hotwaterheating</th>\n",
       "      <th>airconditioning</th>\n",
       "      <th>parking</th>\n",
       "      <th>prefarea</th>\n",
       "      <th>furnishingstatus</th>\n",
       "    </tr>\n",
       "  </thead>\n",
       "  <tbody>\n",
       "    <tr>\n",
       "      <th>price</th>\n",
       "      <td>1.000000</td>\n",
       "      <td>0.535997</td>\n",
       "      <td>0.366494</td>\n",
       "      <td>0.517545</td>\n",
       "      <td>0.420712</td>\n",
       "      <td>0.296898</td>\n",
       "      <td>0.255517</td>\n",
       "      <td>0.187057</td>\n",
       "      <td>0.093073</td>\n",
       "      <td>0.452954</td>\n",
       "      <td>0.384394</td>\n",
       "      <td>0.329777</td>\n",
       "      <td>-0.304721</td>\n",
       "    </tr>\n",
       "    <tr>\n",
       "      <th>area</th>\n",
       "      <td>0.535997</td>\n",
       "      <td>1.000000</td>\n",
       "      <td>0.151858</td>\n",
       "      <td>0.193820</td>\n",
       "      <td>0.083996</td>\n",
       "      <td>0.288874</td>\n",
       "      <td>0.140297</td>\n",
       "      <td>0.047417</td>\n",
       "      <td>-0.009229</td>\n",
       "      <td>0.222393</td>\n",
       "      <td>0.352980</td>\n",
       "      <td>0.234779</td>\n",
       "      <td>-0.171445</td>\n",
       "    </tr>\n",
       "    <tr>\n",
       "      <th>bedrooms</th>\n",
       "      <td>0.366494</td>\n",
       "      <td>0.151858</td>\n",
       "      <td>1.000000</td>\n",
       "      <td>0.373930</td>\n",
       "      <td>0.408564</td>\n",
       "      <td>-0.012033</td>\n",
       "      <td>0.080549</td>\n",
       "      <td>0.097312</td>\n",
       "      <td>0.046049</td>\n",
       "      <td>0.160603</td>\n",
       "      <td>0.139270</td>\n",
       "      <td>0.079023</td>\n",
       "      <td>-0.123244</td>\n",
       "    </tr>\n",
       "    <tr>\n",
       "      <th>bathrooms</th>\n",
       "      <td>0.517545</td>\n",
       "      <td>0.193820</td>\n",
       "      <td>0.373930</td>\n",
       "      <td>1.000000</td>\n",
       "      <td>0.326165</td>\n",
       "      <td>0.042398</td>\n",
       "      <td>0.126469</td>\n",
       "      <td>0.102106</td>\n",
       "      <td>0.067159</td>\n",
       "      <td>0.186915</td>\n",
       "      <td>0.177496</td>\n",
       "      <td>0.063472</td>\n",
       "      <td>-0.143559</td>\n",
       "    </tr>\n",
       "    <tr>\n",
       "      <th>stories</th>\n",
       "      <td>0.420712</td>\n",
       "      <td>0.083996</td>\n",
       "      <td>0.408564</td>\n",
       "      <td>0.326165</td>\n",
       "      <td>1.000000</td>\n",
       "      <td>0.121706</td>\n",
       "      <td>0.043538</td>\n",
       "      <td>-0.172394</td>\n",
       "      <td>0.018847</td>\n",
       "      <td>0.293602</td>\n",
       "      <td>0.045547</td>\n",
       "      <td>0.044425</td>\n",
       "      <td>-0.104672</td>\n",
       "    </tr>\n",
       "    <tr>\n",
       "      <th>mainroad</th>\n",
       "      <td>0.296898</td>\n",
       "      <td>0.288874</td>\n",
       "      <td>-0.012033</td>\n",
       "      <td>0.042398</td>\n",
       "      <td>0.121706</td>\n",
       "      <td>1.000000</td>\n",
       "      <td>0.092337</td>\n",
       "      <td>0.044002</td>\n",
       "      <td>-0.011781</td>\n",
       "      <td>0.105423</td>\n",
       "      <td>0.204433</td>\n",
       "      <td>0.199876</td>\n",
       "      <td>-0.156726</td>\n",
       "    </tr>\n",
       "    <tr>\n",
       "      <th>guestroom</th>\n",
       "      <td>0.255517</td>\n",
       "      <td>0.140297</td>\n",
       "      <td>0.080549</td>\n",
       "      <td>0.126469</td>\n",
       "      <td>0.043538</td>\n",
       "      <td>0.092337</td>\n",
       "      <td>1.000000</td>\n",
       "      <td>0.372066</td>\n",
       "      <td>-0.010308</td>\n",
       "      <td>0.138179</td>\n",
       "      <td>0.037466</td>\n",
       "      <td>0.160897</td>\n",
       "      <td>-0.118328</td>\n",
       "    </tr>\n",
       "    <tr>\n",
       "      <th>basement</th>\n",
       "      <td>0.187057</td>\n",
       "      <td>0.047417</td>\n",
       "      <td>0.097312</td>\n",
       "      <td>0.102106</td>\n",
       "      <td>-0.172394</td>\n",
       "      <td>0.044002</td>\n",
       "      <td>0.372066</td>\n",
       "      <td>1.000000</td>\n",
       "      <td>0.004385</td>\n",
       "      <td>0.047341</td>\n",
       "      <td>0.051497</td>\n",
       "      <td>0.228083</td>\n",
       "      <td>-0.112831</td>\n",
       "    </tr>\n",
       "    <tr>\n",
       "      <th>hotwaterheating</th>\n",
       "      <td>0.093073</td>\n",
       "      <td>-0.009229</td>\n",
       "      <td>0.046049</td>\n",
       "      <td>0.067159</td>\n",
       "      <td>0.018847</td>\n",
       "      <td>-0.011781</td>\n",
       "      <td>-0.010308</td>\n",
       "      <td>0.004385</td>\n",
       "      <td>1.000000</td>\n",
       "      <td>-0.130023</td>\n",
       "      <td>0.067864</td>\n",
       "      <td>-0.059411</td>\n",
       "      <td>-0.031628</td>\n",
       "    </tr>\n",
       "    <tr>\n",
       "      <th>airconditioning</th>\n",
       "      <td>0.452954</td>\n",
       "      <td>0.222393</td>\n",
       "      <td>0.160603</td>\n",
       "      <td>0.186915</td>\n",
       "      <td>0.293602</td>\n",
       "      <td>0.105423</td>\n",
       "      <td>0.138179</td>\n",
       "      <td>0.047341</td>\n",
       "      <td>-0.130023</td>\n",
       "      <td>1.000000</td>\n",
       "      <td>0.159173</td>\n",
       "      <td>0.117382</td>\n",
       "      <td>-0.150477</td>\n",
       "    </tr>\n",
       "    <tr>\n",
       "      <th>parking</th>\n",
       "      <td>0.384394</td>\n",
       "      <td>0.352980</td>\n",
       "      <td>0.139270</td>\n",
       "      <td>0.177496</td>\n",
       "      <td>0.045547</td>\n",
       "      <td>0.204433</td>\n",
       "      <td>0.037466</td>\n",
       "      <td>0.051497</td>\n",
       "      <td>0.067864</td>\n",
       "      <td>0.159173</td>\n",
       "      <td>1.000000</td>\n",
       "      <td>0.091627</td>\n",
       "      <td>-0.177539</td>\n",
       "    </tr>\n",
       "    <tr>\n",
       "      <th>prefarea</th>\n",
       "      <td>0.329777</td>\n",
       "      <td>0.234779</td>\n",
       "      <td>0.079023</td>\n",
       "      <td>0.063472</td>\n",
       "      <td>0.044425</td>\n",
       "      <td>0.199876</td>\n",
       "      <td>0.160897</td>\n",
       "      <td>0.228083</td>\n",
       "      <td>-0.059411</td>\n",
       "      <td>0.117382</td>\n",
       "      <td>0.091627</td>\n",
       "      <td>1.000000</td>\n",
       "      <td>-0.107686</td>\n",
       "    </tr>\n",
       "    <tr>\n",
       "      <th>furnishingstatus</th>\n",
       "      <td>-0.304721</td>\n",
       "      <td>-0.171445</td>\n",
       "      <td>-0.123244</td>\n",
       "      <td>-0.143559</td>\n",
       "      <td>-0.104672</td>\n",
       "      <td>-0.156726</td>\n",
       "      <td>-0.118328</td>\n",
       "      <td>-0.112831</td>\n",
       "      <td>-0.031628</td>\n",
       "      <td>-0.150477</td>\n",
       "      <td>-0.177539</td>\n",
       "      <td>-0.107686</td>\n",
       "      <td>1.000000</td>\n",
       "    </tr>\n",
       "  </tbody>\n",
       "</table>\n",
       "</div>"
      ],
      "text/plain": [
       "                     price      area  bedrooms  bathrooms   stories  mainroad   \n",
       "price             1.000000  0.535997  0.366494   0.517545  0.420712  0.296898  \\\n",
       "area              0.535997  1.000000  0.151858   0.193820  0.083996  0.288874   \n",
       "bedrooms          0.366494  0.151858  1.000000   0.373930  0.408564 -0.012033   \n",
       "bathrooms         0.517545  0.193820  0.373930   1.000000  0.326165  0.042398   \n",
       "stories           0.420712  0.083996  0.408564   0.326165  1.000000  0.121706   \n",
       "mainroad          0.296898  0.288874 -0.012033   0.042398  0.121706  1.000000   \n",
       "guestroom         0.255517  0.140297  0.080549   0.126469  0.043538  0.092337   \n",
       "basement          0.187057  0.047417  0.097312   0.102106 -0.172394  0.044002   \n",
       "hotwaterheating   0.093073 -0.009229  0.046049   0.067159  0.018847 -0.011781   \n",
       "airconditioning   0.452954  0.222393  0.160603   0.186915  0.293602  0.105423   \n",
       "parking           0.384394  0.352980  0.139270   0.177496  0.045547  0.204433   \n",
       "prefarea          0.329777  0.234779  0.079023   0.063472  0.044425  0.199876   \n",
       "furnishingstatus -0.304721 -0.171445 -0.123244  -0.143559 -0.104672 -0.156726   \n",
       "\n",
       "                  guestroom  basement  hotwaterheating  airconditioning   \n",
       "price              0.255517  0.187057         0.093073         0.452954  \\\n",
       "area               0.140297  0.047417        -0.009229         0.222393   \n",
       "bedrooms           0.080549  0.097312         0.046049         0.160603   \n",
       "bathrooms          0.126469  0.102106         0.067159         0.186915   \n",
       "stories            0.043538 -0.172394         0.018847         0.293602   \n",
       "mainroad           0.092337  0.044002        -0.011781         0.105423   \n",
       "guestroom          1.000000  0.372066        -0.010308         0.138179   \n",
       "basement           0.372066  1.000000         0.004385         0.047341   \n",
       "hotwaterheating   -0.010308  0.004385         1.000000        -0.130023   \n",
       "airconditioning    0.138179  0.047341        -0.130023         1.000000   \n",
       "parking            0.037466  0.051497         0.067864         0.159173   \n",
       "prefarea           0.160897  0.228083        -0.059411         0.117382   \n",
       "furnishingstatus  -0.118328 -0.112831        -0.031628        -0.150477   \n",
       "\n",
       "                   parking  prefarea  furnishingstatus  \n",
       "price             0.384394  0.329777         -0.304721  \n",
       "area              0.352980  0.234779         -0.171445  \n",
       "bedrooms          0.139270  0.079023         -0.123244  \n",
       "bathrooms         0.177496  0.063472         -0.143559  \n",
       "stories           0.045547  0.044425         -0.104672  \n",
       "mainroad          0.204433  0.199876         -0.156726  \n",
       "guestroom         0.037466  0.160897         -0.118328  \n",
       "basement          0.051497  0.228083         -0.112831  \n",
       "hotwaterheating   0.067864 -0.059411         -0.031628  \n",
       "airconditioning   0.159173  0.117382         -0.150477  \n",
       "parking           1.000000  0.091627         -0.177539  \n",
       "prefarea          0.091627  1.000000         -0.107686  \n",
       "furnishingstatus -0.177539 -0.107686          1.000000  "
      ]
     },
     "execution_count": 31,
     "metadata": {},
     "output_type": "execute_result"
    }
   ],
   "source": [
    "df.corr()"
   ]
  },
  {
   "cell_type": "code",
   "execution_count": 32,
   "id": "16b8289d",
   "metadata": {},
   "outputs": [
    {
     "data": {
      "text/html": [
       "<div>\n",
       "<style scoped>\n",
       "    .dataframe tbody tr th:only-of-type {\n",
       "        vertical-align: middle;\n",
       "    }\n",
       "\n",
       "    .dataframe tbody tr th {\n",
       "        vertical-align: top;\n",
       "    }\n",
       "\n",
       "    .dataframe thead th {\n",
       "        text-align: right;\n",
       "    }\n",
       "</style>\n",
       "<table border=\"1\" class=\"dataframe\">\n",
       "  <thead>\n",
       "    <tr style=\"text-align: right;\">\n",
       "      <th></th>\n",
       "      <th>0</th>\n",
       "      <th>1</th>\n",
       "      <th>2</th>\n",
       "      <th>3</th>\n",
       "      <th>4</th>\n",
       "    </tr>\n",
       "  </thead>\n",
       "  <tbody>\n",
       "    <tr>\n",
       "      <th>0</th>\n",
       "      <td>1.000000</td>\n",
       "      <td>0.396564</td>\n",
       "      <td>0.333333</td>\n",
       "      <td>0.666667</td>\n",
       "      <td>1.0</td>\n",
       "    </tr>\n",
       "    <tr>\n",
       "      <th>1</th>\n",
       "      <td>0.909091</td>\n",
       "      <td>0.502405</td>\n",
       "      <td>1.000000</td>\n",
       "      <td>1.000000</td>\n",
       "      <td>1.0</td>\n",
       "    </tr>\n",
       "    <tr>\n",
       "      <th>2</th>\n",
       "      <td>0.909091</td>\n",
       "      <td>0.571134</td>\n",
       "      <td>0.333333</td>\n",
       "      <td>0.333333</td>\n",
       "      <td>0.0</td>\n",
       "    </tr>\n",
       "    <tr>\n",
       "      <th>3</th>\n",
       "      <td>0.906061</td>\n",
       "      <td>0.402062</td>\n",
       "      <td>0.333333</td>\n",
       "      <td>0.333333</td>\n",
       "      <td>1.0</td>\n",
       "    </tr>\n",
       "    <tr>\n",
       "      <th>4</th>\n",
       "      <td>0.836364</td>\n",
       "      <td>0.396564</td>\n",
       "      <td>0.000000</td>\n",
       "      <td>0.333333</td>\n",
       "      <td>1.0</td>\n",
       "    </tr>\n",
       "  </tbody>\n",
       "</table>\n",
       "</div>"
      ],
      "text/plain": [
       "          0         1         2         3    4\n",
       "0  1.000000  0.396564  0.333333  0.666667  1.0\n",
       "1  0.909091  0.502405  1.000000  1.000000  1.0\n",
       "2  0.909091  0.571134  0.333333  0.333333  0.0\n",
       "3  0.906061  0.402062  0.333333  0.333333  1.0\n",
       "4  0.836364  0.396564  0.000000  0.333333  1.0"
      ]
     },
     "execution_count": 32,
     "metadata": {},
     "output_type": "execute_result"
    }
   ],
   "source": [
    "set1=df[['price','area','bathrooms','stories','airconditioning']]\n",
    "set1.head()\n",
    "from sklearn.preprocessing import MinMaxScaler\n",
    "scaler = MinMaxScaler()\n",
    "model=scaler.fit(set1)\n",
    "set1_scaled=model.transform(set1)\n",
    "set1=pd.DataFrame(set1_scaled)\n",
    "set1.head()"
   ]
  },
  {
   "cell_type": "code",
   "execution_count": 33,
   "id": "9d737999",
   "metadata": {},
   "outputs": [
    {
     "name": "stdout",
     "output_type": "stream",
     "text": [
      "            1         2         3    4\n",
      "0    0.396564  0.333333  0.666667  1.0\n",
      "1    0.502405  1.000000  1.000000  1.0\n",
      "2    0.571134  0.333333  0.333333  0.0\n",
      "3    0.402062  0.333333  0.333333  1.0\n",
      "4    0.396564  0.000000  0.333333  1.0\n",
      "..        ...       ...       ...  ...\n",
      "540  0.092784  0.000000  0.000000  0.0\n",
      "541  0.051546  0.000000  0.000000  0.0\n",
      "542  0.135395  0.000000  0.000000  0.0\n",
      "543  0.086598  0.000000  0.000000  0.0\n",
      "544  0.151203  0.000000  0.333333  0.0\n",
      "\n",
      "[545 rows x 4 columns]\n"
     ]
    }
   ],
   "source": [
    "x1=set1.iloc[:,1:]\n",
    "print(x1)"
   ]
  },
  {
   "cell_type": "code",
   "execution_count": 34,
   "id": "20912b82",
   "metadata": {},
   "outputs": [
    {
     "name": "stdout",
     "output_type": "stream",
     "text": [
      "0      1.000000\n",
      "1      0.909091\n",
      "2      0.909091\n",
      "3      0.906061\n",
      "4      0.836364\n",
      "         ...   \n",
      "540    0.006061\n",
      "541    0.001485\n",
      "542    0.000000\n",
      "543    0.000000\n",
      "544    0.000000\n",
      "Name: 0, Length: 545, dtype: float64\n"
     ]
    }
   ],
   "source": [
    "y1=set1.iloc[:,0]\n",
    "print(y1)"
   ]
  },
  {
   "cell_type": "code",
   "execution_count": 35,
   "id": "ab29dd1a",
   "metadata": {},
   "outputs": [
    {
     "name": "stdout",
     "output_type": "stream",
     "text": [
      "(408, 4)\n",
      "(137, 4)\n",
      "(408,)\n",
      "(137,)\n"
     ]
    }
   ],
   "source": [
    "x_train1,x_test1,y_train1,y_test1=train_test_split(x1,y1,test_size=0.25,random_state=0)\n",
    "print(x_train1.shape)\n",
    "print(x_test1.shape)\n",
    "print(y_train1.shape)\n",
    "print(y_test1.shape)"
   ]
  },
  {
   "cell_type": "code",
   "execution_count": 36,
   "id": "49291141",
   "metadata": {},
   "outputs": [
    {
     "data": {
      "text/html": [
       "<style>#sk-container-id-2 {color: black;background-color: white;}#sk-container-id-2 pre{padding: 0;}#sk-container-id-2 div.sk-toggleable {background-color: white;}#sk-container-id-2 label.sk-toggleable__label {cursor: pointer;display: block;width: 100%;margin-bottom: 0;padding: 0.3em;box-sizing: border-box;text-align: center;}#sk-container-id-2 label.sk-toggleable__label-arrow:before {content: \"▸\";float: left;margin-right: 0.25em;color: #696969;}#sk-container-id-2 label.sk-toggleable__label-arrow:hover:before {color: black;}#sk-container-id-2 div.sk-estimator:hover label.sk-toggleable__label-arrow:before {color: black;}#sk-container-id-2 div.sk-toggleable__content {max-height: 0;max-width: 0;overflow: hidden;text-align: left;background-color: #f0f8ff;}#sk-container-id-2 div.sk-toggleable__content pre {margin: 0.2em;color: black;border-radius: 0.25em;background-color: #f0f8ff;}#sk-container-id-2 input.sk-toggleable__control:checked~div.sk-toggleable__content {max-height: 200px;max-width: 100%;overflow: auto;}#sk-container-id-2 input.sk-toggleable__control:checked~label.sk-toggleable__label-arrow:before {content: \"▾\";}#sk-container-id-2 div.sk-estimator input.sk-toggleable__control:checked~label.sk-toggleable__label {background-color: #d4ebff;}#sk-container-id-2 div.sk-label input.sk-toggleable__control:checked~label.sk-toggleable__label {background-color: #d4ebff;}#sk-container-id-2 input.sk-hidden--visually {border: 0;clip: rect(1px 1px 1px 1px);clip: rect(1px, 1px, 1px, 1px);height: 1px;margin: -1px;overflow: hidden;padding: 0;position: absolute;width: 1px;}#sk-container-id-2 div.sk-estimator {font-family: monospace;background-color: #f0f8ff;border: 1px dotted black;border-radius: 0.25em;box-sizing: border-box;margin-bottom: 0.5em;}#sk-container-id-2 div.sk-estimator:hover {background-color: #d4ebff;}#sk-container-id-2 div.sk-parallel-item::after {content: \"\";width: 100%;border-bottom: 1px solid gray;flex-grow: 1;}#sk-container-id-2 div.sk-label:hover label.sk-toggleable__label {background-color: #d4ebff;}#sk-container-id-2 div.sk-serial::before {content: \"\";position: absolute;border-left: 1px solid gray;box-sizing: border-box;top: 0;bottom: 0;left: 50%;z-index: 0;}#sk-container-id-2 div.sk-serial {display: flex;flex-direction: column;align-items: center;background-color: white;padding-right: 0.2em;padding-left: 0.2em;position: relative;}#sk-container-id-2 div.sk-item {position: relative;z-index: 1;}#sk-container-id-2 div.sk-parallel {display: flex;align-items: stretch;justify-content: center;background-color: white;position: relative;}#sk-container-id-2 div.sk-item::before, #sk-container-id-2 div.sk-parallel-item::before {content: \"\";position: absolute;border-left: 1px solid gray;box-sizing: border-box;top: 0;bottom: 0;left: 50%;z-index: -1;}#sk-container-id-2 div.sk-parallel-item {display: flex;flex-direction: column;z-index: 1;position: relative;background-color: white;}#sk-container-id-2 div.sk-parallel-item:first-child::after {align-self: flex-end;width: 50%;}#sk-container-id-2 div.sk-parallel-item:last-child::after {align-self: flex-start;width: 50%;}#sk-container-id-2 div.sk-parallel-item:only-child::after {width: 0;}#sk-container-id-2 div.sk-dashed-wrapped {border: 1px dashed gray;margin: 0 0.4em 0.5em 0.4em;box-sizing: border-box;padding-bottom: 0.4em;background-color: white;}#sk-container-id-2 div.sk-label label {font-family: monospace;font-weight: bold;display: inline-block;line-height: 1.2em;}#sk-container-id-2 div.sk-label-container {text-align: center;}#sk-container-id-2 div.sk-container {/* jupyter's `normalize.less` sets `[hidden] { display: none; }` but bootstrap.min.css set `[hidden] { display: none !important; }` so we also need the `!important` here to be able to override the default hidden behavior on the sphinx rendered scikit-learn.org. See: https://github.com/scikit-learn/scikit-learn/issues/21755 */display: inline-block !important;position: relative;}#sk-container-id-2 div.sk-text-repr-fallback {display: none;}</style><div id=\"sk-container-id-2\" class=\"sk-top-container\"><div class=\"sk-text-repr-fallback\"><pre>LinearRegression()</pre><b>In a Jupyter environment, please rerun this cell to show the HTML representation or trust the notebook. <br />On GitHub, the HTML representation is unable to render, please try loading this page with nbviewer.org.</b></div><div class=\"sk-container\" hidden><div class=\"sk-item\"><div class=\"sk-estimator sk-toggleable\"><input class=\"sk-toggleable__control sk-hidden--visually\" id=\"sk-estimator-id-2\" type=\"checkbox\" checked><label for=\"sk-estimator-id-2\" class=\"sk-toggleable__label sk-toggleable__label-arrow\">LinearRegression</label><div class=\"sk-toggleable__content\"><pre>LinearRegression()</pre></div></div></div></div></div>"
      ],
      "text/plain": [
       "LinearRegression()"
      ]
     },
     "execution_count": 36,
     "metadata": {},
     "output_type": "execute_result"
    }
   ],
   "source": [
    "reg1=LinearRegression()\n",
    "reg1.fit(x_train1,y_train1)"
   ]
  },
  {
   "cell_type": "code",
   "execution_count": 37,
   "id": "0977a2ae",
   "metadata": {},
   "outputs": [],
   "source": [
    "y_pred1=reg1.predict(x_train1)\n",
    "y_pred2=reg1.predict(x_test1)"
   ]
  },
  {
   "cell_type": "code",
   "execution_count": 38,
   "id": "2cf1ea8c",
   "metadata": {},
   "outputs": [
    {
     "name": "stdout",
     "output_type": "stream",
     "text": [
      "Mean Square Error(for Train) = 0.011952932068905863\n",
      "R^2 Score (for Train)= 0.5597140170551672\n",
      "Mean Square Error(for Test) = 0.008236798508751631\n",
      "R^2 Score (for Test)= 0.6439933011209151\n"
     ]
    }
   ],
   "source": [
    "print(\"Mean Square Error(for Train) =\",mean_squared_error(y_train1,y_pred1))\n",
    "print(\"R^2 Score (for Train)=\",r2_score(y_train1,y_pred1))\n",
    "\n",
    "print(\"Mean Square Error(for Test) =\",mean_squared_error(y_test1,y_pred2))\n",
    "print(\"R^2 Score (for Test)=\",r2_score(y_test1,y_pred2))"
   ]
  },
  {
   "cell_type": "code",
   "execution_count": null,
   "id": "b7b0e7d9",
   "metadata": {},
   "outputs": [],
   "source": []
  }
 ],
 "metadata": {
  "colab": {
   "collapsed_sections": [],
   "provenance": []
  },
  "kernelspec": {
   "display_name": "Python 3 (ipykernel)",
   "language": "python",
   "name": "python3"
  },
  "language_info": {
   "codemirror_mode": {
    "name": "ipython",
    "version": 3
   },
   "file_extension": ".py",
   "mimetype": "text/x-python",
   "name": "python",
   "nbconvert_exporter": "python",
   "pygments_lexer": "ipython3",
   "version": "3.10.6"
  }
 },
 "nbformat": 4,
 "nbformat_minor": 5
}
